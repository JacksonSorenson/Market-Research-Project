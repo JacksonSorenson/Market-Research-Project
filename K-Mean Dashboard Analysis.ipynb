{
 "cells": [
  {
   "cell_type": "code",
   "execution_count": 14,
   "metadata": {},
   "outputs": [],
   "source": [
    "import pandas as pd\n",
    "import plotly.graph_objects as go\n",
    "from plotly.subplots import make_subplots  # Import make_subplots\n",
    "from dash import Dash, dcc, html\n",
    "from sklearn.cluster import KMeans\n",
    "from sklearn.decomposition import PCA\n",
    "from sklearn.preprocessing import StandardScaler"
   ]
  },
  {
   "cell_type": "code",
   "execution_count": 15,
   "metadata": {},
   "outputs": [],
   "source": [
    "df = pd.read_csv('/Users/jacksonsorenson/Documents/Pyhton Projects/Market Research Project/Cleaned CSV/cleaned_marketing_campaign.csv')"
   ]
  },
  {
   "cell_type": "code",
   "execution_count": 16,
   "metadata": {},
   "outputs": [
    {
     "data": {
      "text/html": [
       "\n",
       "        <iframe\n",
       "            width=\"100%\"\n",
       "            height=\"650\"\n",
       "            src=\"http://127.0.0.1:8050/\"\n",
       "            frameborder=\"0\"\n",
       "            allowfullscreen\n",
       "            \n",
       "        ></iframe>\n",
       "        "
      ],
      "text/plain": [
       "<IPython.lib.display.IFrame at 0x29c213710>"
      ]
     },
     "metadata": {},
     "output_type": "display_data"
    }
   ],
   "source": [
    "# Plotyly Dashboard Over K-Mean Clustering Segmenattion Analysis\n",
    "\n",
    "# Assuming df is your DataFrame\n",
    "scaler = StandardScaler()\n",
    "X_scaled = scaler.fit_transform(df.select_dtypes(include='number'))\n",
    "\n",
    "# Elbow Method for Optimal Clusters\n",
    "optimal_clusters = 10\n",
    "distortions = []\n",
    "for k in range(1, optimal_clusters + 1):\n",
    "    kmeans = KMeans(n_clusters=k, random_state=42)\n",
    "    kmeans.fit(X_scaled)\n",
    "    distortions.append(kmeans.inertia_)\n",
    "\n",
    "fig_elbow = go.Figure()\n",
    "fig_elbow.add_trace(go.Scatter(\n",
    "    x=list(range(1, optimal_clusters + 1)),\n",
    "    y=distortions,\n",
    "    mode='lines+markers',\n",
    "    name='Distortion'\n",
    "))\n",
    "fig_elbow.update_layout(\n",
    "    title='Elbow Method for Optimal Clusters',\n",
    "    xaxis_title='Number of Clusters',\n",
    "    yaxis_title='Inertia (Distortion)'\n",
    ")\n",
    "\n",
    "# K-Means Clustering Results\n",
    "optimal_k = 3\n",
    "kmeans = KMeans(n_clusters=optimal_k, random_state=42)\n",
    "df['Cluster'] = kmeans.fit_predict(X_scaled)\n",
    "\n",
    "pca = PCA(n_components=2)\n",
    "X_pca = pca.fit_transform(X_scaled)\n",
    "\n",
    "fig_kmeans = go.Figure()\n",
    "fig_kmeans.add_trace(go.Scatter(\n",
    "    x=X_pca[:, 0],\n",
    "    y=X_pca[:, 1],\n",
    "    mode='markers',\n",
    "    marker=dict(color=df['Cluster'], size=10, opacity=0.7),\n",
    "    name='Clusters'\n",
    "))\n",
    "fig_kmeans.update_layout(\n",
    "    title='K-Means Clustering Results (PCA-reduced)',\n",
    "    xaxis_title='PCA Component 1',\n",
    "    yaxis_title='PCA Component 2'\n",
    ")\n",
    "\n",
    "# Cluster Profiles (Individual Subplots)\n",
    "cluster_profile = df.groupby('Cluster')[\n",
    "    ['Age', 'Income', 'Total_Spend', 'NumWebPurchases', 'Recency']\n",
    "].mean().reset_index()\n",
    "\n",
    "fig_profiles = make_subplots(\n",
    "    rows=5, cols=1,\n",
    "    subplot_titles=['Age', 'Income', 'Total Spend', 'Number of Web Purchases', 'Recency']\n",
    ")\n",
    "\n",
    "metrics = ['Age', 'Income', 'Total_Spend', 'NumWebPurchases', 'Recency']\n",
    "for i, metric in enumerate(metrics, start=1):\n",
    "    fig_profiles.add_trace(\n",
    "        go.Bar(\n",
    "            x=cluster_profile['Cluster'],\n",
    "            y=cluster_profile[metric],\n",
    "            name=metric\n",
    "        ),\n",
    "        row=i, col=1\n",
    "    )\n",
    "\n",
    "fig_profiles.update_layout(\n",
    "    height=1500,\n",
    "    title='Cluster Profiles Split by Metrics',\n",
    "    showlegend=False\n",
    ")\n",
    "\n",
    "# Dash App Layout\n",
    "app = Dash(__name__)\n",
    "app.layout = html.Div([\n",
    "    html.H1(\"Customer Segmentation Dashboard\", style={'textAlign': 'center'}),\n",
    "\n",
    "    html.Div([\n",
    "        html.H2(\"Elbow Method for Optimal Clusters\"),\n",
    "        dcc.Graph(figure=fig_elbow)\n",
    "    ]),\n",
    "\n",
    "    html.Div([\n",
    "        html.H2(\"K-Means Clustering Results\"),\n",
    "        dcc.Graph(figure=fig_kmeans)\n",
    "    ]),\n",
    "\n",
    "    html.Div([\n",
    "        html.H2(\"Cluster Profiles (Split by Metrics)\"),\n",
    "        dcc.Graph(figure=fig_profiles)\n",
    "    ])\n",
    "])\n",
    "\n",
    "if __name__ == '__main__':\n",
    "    app.run_server(debug=True)\n"
   ]
  }
 ],
 "metadata": {
  "kernelspec": {
   "display_name": "Python 3",
   "language": "python",
   "name": "python3"
  },
  "language_info": {
   "codemirror_mode": {
    "name": "ipython",
    "version": 3
   },
   "file_extension": ".py",
   "mimetype": "text/x-python",
   "name": "python",
   "nbconvert_exporter": "python",
   "pygments_lexer": "ipython3",
   "version": "3.12.4"
  }
 },
 "nbformat": 4,
 "nbformat_minor": 2
}
